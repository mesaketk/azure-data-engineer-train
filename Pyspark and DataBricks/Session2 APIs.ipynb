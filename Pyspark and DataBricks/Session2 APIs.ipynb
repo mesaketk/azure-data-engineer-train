{
 "cells": [
  {
   "cell_type": "code",
   "execution_count": 0,
   "metadata": {
    "application/vnd.databricks.v1+cell": {
     "cellMetadata": {
      "byteLimit": 2048000,
      "rowLimit": 10000
     },
     "inputWidgets": {},
     "nuid": "6ccd3e63-f9ef-4f19-b28a-cc165852fff6",
     "showTitle": false,
     "title": ""
    }
   },
   "outputs": [],
   "source": [
    "from pyspark.sql import SparkSession\n",
    "from pyspark.sql.functions import col\n",
    "import requests"
   ]
  },
  {
   "cell_type": "code",
   "execution_count": 0,
   "metadata": {
    "application/vnd.databricks.v1+cell": {
     "cellMetadata": {
      "byteLimit": 2048000,
      "rowLimit": 10000
     },
     "inputWidgets": {},
     "nuid": "a8f311b7-69fd-4bf7-9157-cbde6d75a408",
     "showTitle": false,
     "title": ""
    }
   },
   "outputs": [],
   "source": [
    "\n",
    "# Create a SparkSession\n",
    "spark = SparkSession.builder \\\n",
    "    .appName(\"Get Stock Data\") \\\n",
    "    .getOrCreate()\n"
   ]
  },
  {
   "cell_type": "code",
   "execution_count": 0,
   "metadata": {
    "application/vnd.databricks.v1+cell": {
     "cellMetadata": {
      "byteLimit": 2048000,
      "rowLimit": 10000
     },
     "inputWidgets": {},
     "nuid": "ca0fb054-c475-4d41-a07a-559c108daf31",
     "showTitle": false,
     "title": ""
    }
   },
   "outputs": [],
   "source": [
    "# Make the request\n",
    "api_string = \"https://api.freeapi.app/api/v1/public/stocks?page=1&limit={pageLimit}&inc=Symbol%2CName&query={companyName}\"\n",
    "# company_name = ['tata','birla','infosys','wipro','reliance','adani','hdfc','icici','sbi','bharat']\n",
    "company_name = ['tata']"
   ]
  },
  {
   "cell_type": "code",
   "execution_count": 0,
   "metadata": {
    "application/vnd.databricks.v1+cell": {
     "cellMetadata": {
      "byteLimit": 2048000,
      "rowLimit": 10000
     },
     "inputWidgets": {},
     "nuid": "ae4e061f-c00e-4524-8660-9f086a0607a1",
     "showTitle": false,
     "title": ""
    }
   },
   "outputs": [],
   "source": [
    "#fetching associated companies\n",
    "flag = 0\n",
    "for company in company_name:\n",
    "    response = requests.get(api_string.format(pageLimit=1,companyName=company))\n",
    "    data_val = response.json()\n",
    "    totalpages = data_val[\"data\"][\"totalPages\"]\n",
    "    response = requests.get(api_string.format(pageLimit=totalpages,companyName=company))\n",
    "    data = response.json()\n",
    "    if flag==0:\n",
    "        stockmaster = spark.createDataFrame(data[\"data\"][\"data\"])\n",
    "        flag=1\n",
    "    else:\n",
    "        stockmaster2 = spark.createDataFrame(data[\"data\"][\"data\"])\n",
    "        stockmaster = stockmaster.union(stockmaster2)"
   ]
  },
  {
   "cell_type": "code",
   "execution_count": 0,
   "metadata": {
    "application/vnd.databricks.v1+cell": {
     "cellMetadata": {
      "byteLimit": 2048000,
      "rowLimit": 10000
     },
     "inputWidgets": {},
     "nuid": "70260bfb-a777-4c04-9284-38e00b9b4e5e",
     "showTitle": false,
     "title": ""
    }
   },
   "outputs": [
    {
     "output_type": "display_data",
     "data": {
      "text/html": [
       "<style scoped>\n",
       "  .table-result-container {\n",
       "    max-height: 300px;\n",
       "    overflow: auto;\n",
       "  }\n",
       "  table, th, td {\n",
       "    border: 1px solid black;\n",
       "    border-collapse: collapse;\n",
       "  }\n",
       "  th, td {\n",
       "    padding: 5px;\n",
       "  }\n",
       "  th {\n",
       "    text-align: left;\n",
       "  }\n",
       "</style><div class='table-result-container'><table class='table-result'><thead style='background-color: white'><tr><th>Name</th><th>Symbol</th><th>BookValue</th><th>CurrentPrice</th><th>DividendYield</th><th>FaceValue</th><th>HighLow</th><th>ISIN</th><th>ListingDate</th><th>MarketCap</th><th>ROCE</th><th>ROE</th><th>StockPE</th></tr></thead><tbody></tbody></table></div>"
      ]
     },
     "metadata": {
      "application/vnd.databricks.v1+output": {
       "addedWidgets": {},
       "aggData": [],
       "aggError": "",
       "aggOverflow": false,
       "aggSchema": [],
       "aggSeriesLimitReached": false,
       "aggType": "",
       "arguments": {},
       "columnCustomDisplayInfos": {},
       "data": [],
       "datasetInfos": [],
       "dbfsResultPath": null,
       "isJsonSchema": true,
       "metadata": {},
       "overflow": false,
       "plotOptions": {
        "customPlotOptions": {},
        "displayType": "table",
        "pivotAggregation": null,
        "pivotColumns": null,
        "xColumns": null,
        "yColumns": null
       },
       "removedWidgets": [],
       "schema": [
        {
         "metadata": "{}",
         "name": "Name",
         "type": "\"string\""
        },
        {
         "metadata": "{}",
         "name": "Symbol",
         "type": "\"string\""
        },
        {
         "metadata": "{}",
         "name": "BookValue",
         "type": "\"string\""
        },
        {
         "metadata": "{}",
         "name": "CurrentPrice",
         "type": "\"string\""
        },
        {
         "metadata": "{}",
         "name": "DividendYield",
         "type": "\"string\""
        },
        {
         "metadata": "{}",
         "name": "FaceValue",
         "type": "\"string\""
        },
        {
         "metadata": "{}",
         "name": "HighLow",
         "type": "\"string\""
        },
        {
         "metadata": "{}",
         "name": "ISIN",
         "type": "\"string\""
        },
        {
         "metadata": "{}",
         "name": "ListingDate",
         "type": "\"string\""
        },
        {
         "metadata": "{}",
         "name": "MarketCap",
         "type": "\"string\""
        },
        {
         "metadata": "{}",
         "name": "ROCE",
         "type": "\"string\""
        },
        {
         "metadata": "{}",
         "name": "ROE",
         "type": "\"string\""
        },
        {
         "metadata": "{}",
         "name": "StockPE",
         "type": "\"string\""
        }
       ],
       "type": "table"
      }
     },
     "output_type": "display_data"
    }
   ],
   "source": [
    "# from pyspark.sql.types import StructType, StructField, StringType, FloatType\n",
    "\n",
    "# schema = StructType([\n",
    "#     StructField(\"Name\", StringType(), True),\n",
    "#     StructField(\"Symbol\", StringType(), True),\n",
    "#     StructField(\"BookValue\", StringType(), True),\n",
    "#     StructField(\"CurrentPrice\", StringType(), True),\n",
    "#     StructField(\"DividendYield\", StringType(), True),\n",
    "#     StructField(\"FaceValue\", StringType(), True),\n",
    "#     StructField(\"HighLow\", StringType(), True),\n",
    "#     StructField(\"ISIN\", StringType(), True),\n",
    "#     StructField(\"ListingDate\", StringType(), True),  # Depending on format, might need DateType\n",
    "#     StructField(\"MarketCap\", StringType(), True),\n",
    "#     StructField(\"ROCE\", StringType(), True),\n",
    "#     StructField(\"ROE\", StringType(), True),\n",
    "#     StructField(\"StockPE\", StringType(), True)\n",
    "# ])\n",
    "\n",
    "# df_details = spark.createDataFrame([], schema)\n",
    "# display(df_details)"
   ]
  },
  {
   "cell_type": "code",
   "execution_count": 0,
   "metadata": {
    "application/vnd.databricks.v1+cell": {
     "cellMetadata": {
      "byteLimit": 2048000,
      "rowLimit": 10000
     },
     "inputWidgets": {},
     "nuid": "87f25a82-d21e-4192-858f-003ceedad752",
     "showTitle": false,
     "title": ""
    }
   },
   "outputs": [],
   "source": [
    "#fetching Stock details\n",
    "STOCK_DETAILS_API = \"https://api.freeapi.app/api/v1/public/stocks/{companySymbol}\"\n",
    "\n",
    "flag = 0\n",
    "\n",
    "for rows in stockmaster.toLocalIterator():\n",
    "    response = requests.get(STOCK_DETAILS_API.format(companySymbol=rows[\"Symbol\"]))\n",
    "    data = response.json()\n",
    "    stockdetails = [data[\"data\"]]\n",
    "    if flag==0:\n",
    "        stockdetailsdf = spark.createDataFrame(stockdetails)\n",
    "        flag=1\n",
    "    else:\n",
    "        #df1.unionByName(df2, allowMissingColumns=True)\n",
    "        stockdetailsdf2 = spark.createDataFrame(stockdetails)\n",
    "        stockdetailsdf = stockdetailsdf.unionAll(stockdetailsdf2)"
   ]
  },
  {
   "cell_type": "code",
   "execution_count": 0,
   "metadata": {
    "application/vnd.databricks.v1+cell": {
     "cellMetadata": {
      "byteLimit": 2048000,
      "rowLimit": 10000
     },
     "inputWidgets": {},
     "nuid": "c7a9ebb3-3d1c-4475-aca7-84ab37147fab",
     "showTitle": false,
     "title": ""
    }
   },
   "outputs": [
    {
     "output_type": "display_data",
     "data": {
      "text/html": [
       "<style scoped>\n",
       "  .table-result-container {\n",
       "    max-height: 300px;\n",
       "    overflow: auto;\n",
       "  }\n",
       "  table, th, td {\n",
       "    border: 1px solid black;\n",
       "    border-collapse: collapse;\n",
       "  }\n",
       "  th, td {\n",
       "    padding: 5px;\n",
       "  }\n",
       "  th {\n",
       "    text-align: left;\n",
       "  }\n",
       "</style><div class='table-result-container'><table class='table-result'><thead style='background-color: white'><tr><th>BookValue</th><th>CurrentPrice</th><th>DividendYield</th><th>FaceValue</th><th>HighLow</th><th>ISIN</th><th>ListingDate</th><th>MarketCap</th><th>Name</th><th>ROCE</th><th>ROE</th><th>StockPE</th><th>Symbol</th><th>High</th><th>Low</th><th>date</th></tr></thead><tbody><tr><td>840</td><td>1113</td><td>1.54 %</td><td>10</td><td>1,123 / 912</td><td>INE092A01019</td><td>01-Apr-99</td><td>null</td><td>Tata Chemicals Limited</td><td>11.6 %</td><td>12.0 %</td><td>14.4</td><td>TATACHEM</td><td>1123</td><td>912</td><td>2024-05-15</td></tr><tr><td>99</td><td>321</td><td>0.93 %</td><td>1</td><td>322 / 199</td><td>INE493A01027</td><td>16-Feb-00</td><td>null</td><td>Tata Coffee Limited</td><td>9.78 %</td><td>10.1 %</td><td>33.4</td><td>TATACOFFEE</td><td>322</td><td>199</td><td>2024-05-15</td></tr><tr><td>51</td><td>1781</td><td>1.18 %</td><td>10</td><td>1,957 / 1,157</td><td>INE151A01013</td><td>12-Apr-95</td><td>null</td><td>Tata Communications Limited</td><td>23.9 %</td><td>142 %</td><td>38.5</td><td>TATACOMM</td><td>1957</td><td>1157</td><td>2024-05-15</td></tr><tr><td>174</td><td>1080</td><td>0.77 %</td><td>1</td><td>1,081 / 685</td><td>INE192A01025</td><td>18-Nov-98</td><td>null</td><td>TATA CONSUMER PRODUCTS LIMITED</td><td>9.32 %</td><td>6.86 %</td><td>81.3</td><td>TATACONSUM</td><td>1081</td><td>685</td><td>2024-05-15</td></tr><tr><td>45</td><td>8740</td><td>0.69 %</td><td>10</td><td>9,200 / 5,883</td><td>INE670A01012</td><td>17-Sep-03</td><td>null</td><td>Tata Elxsi Limited</td><td>60.0 %</td><td>39.3 %</td><td>533</td><td>TATAELXSI</td><td>9200</td><td>5883</td><td>2024-05-15</td></tr><tr><td>4691</td><td>4297</td><td>1.11 %</td><td>10</td><td>4,737 / 1,730</td><td>INE672A01018</td><td>24-Jun-98</td><td>null</td><td>Tata Investment Corporation Limited</td><td>1.42 %</td><td>1.28 %</td><td>66.9</td><td>TATAINVEST</td><td>4737</td><td>1730</td><td>2024-05-15</td></tr><tr><td>59</td><td>1078</td><td>0.46 %</td><td>10</td><td>1,085 / 721</td><td>INE056C01010</td><td>27-May-03</td><td>null</td><td>Tata Metaliks Limited</td><td>43.3 %</td><td>306 %</td><td>28.2</td><td>TATAMETALI</td><td>1085</td><td>721</td><td>2024-05-15</td></tr><tr><td>161</td><td>792</td><td>0.27 %</td><td>2</td><td>802 / 381</td><td>INE155A01022</td><td>22-Jul-98</td><td>null</td><td>Tata Motors Limited</td><td>5.95 %</td><td>5.62 %</td><td>18.1</td><td>TATAMOTORS</td><td>802</td><td>381</td><td>2024-05-15</td></tr><tr><td>1086</td><td>526</td><td>0.42 %</td><td>2</td><td>537 / 202</td><td>IN9155A01020</td><td>05-Nov-08</td><td>null</td><td>Tata Motors Limited</td><td>%</td><td>-3.68 %</td><td></td><td>TATAMTRDVR</td><td>537</td><td>202</td><td>2024-05-15</td></tr><tr><td>94</td><td>333</td><td>0.61 %</td><td>1</td><td>347 / 182</td><td>INE245A01021</td><td>03-Apr-96</td><td>null</td><td>Tata Power Company Limited</td><td>11.7 %</td><td>12.6 %</td><td>31.2</td><td>TATAPOWER</td><td>347</td><td>182</td><td>2024-05-15</td></tr><tr><td>73</td><td>140</td><td>2.56 %</td><td>1</td><td>140 / 102</td><td>INE081A01020</td><td>18-Nov-98</td><td>null</td><td>Tata Steel Limited</td><td>12.6 %</td><td>7.28 %</td><td>2,827</td><td>TATASTEEL</td><td>140</td><td>102</td><td>2024-05-15</td></tr><tr><td>null</td><td>1186</td><td>0.00 %</td><td>2</td><td>1,400 / 1,151</td><td>INE142M01025</td><td>30-Nov-23</td><td>null</td><td>Tata Technologies Limited</td><td>28.1 %</td><td>23.7 %</td><td>77.1</td><td>TATATECH</td><td>1400</td><td>1151</td><td>2024-05-15</td></tr><tr><td>275</td><td>3804</td><td>1.26 %</td><td>1</td><td>3,929 / 3,070</td><td>INE467B01029</td><td>25-Aug-04</td><td>null</td><td>Tata Consultancy Services Limited</td><td>58.7 %</td><td>46.9 %</td><td>31.2</td><td>TCS</td><td>3929</td><td>3070</td><td>2024-05-15</td></tr><tr><td>-2</td><td>91</td><td>0.00 %</td><td>10</td><td>109 / 49.6</td><td>INE517B01013</td><td>20-Oct-00</td><td>null</td><td>Tata Teleservices (Maharashtra) Limited</td><td>-12.7 %</td><td>%</td><td></td><td>TTML</td><td>109</td><td>49</td><td>2024-05-15</td></tr></tbody></table></div>"
      ]
     },
     "metadata": {
      "application/vnd.databricks.v1+output": {
       "addedWidgets": {},
       "aggData": [],
       "aggError": "",
       "aggOverflow": false,
       "aggSchema": [],
       "aggSeriesLimitReached": false,
       "aggType": "",
       "arguments": {},
       "columnCustomDisplayInfos": {},
       "data": [
        [
         840,
         1113,
         "1.54 %",
         10,
         "1,123 / 912",
         "INE092A01019",
         "01-Apr-99",
         null,
         "Tata Chemicals Limited",
         "11.6 %",
         "12.0 %",
         "14.4",
         "TATACHEM",
         1123,
         912,
         "2024-05-15"
        ],
        [
         99,
         321,
         "0.93 %",
         1,
         "322 / 199",
         "INE493A01027",
         "16-Feb-00",
         null,
         "Tata Coffee Limited",
         "9.78 %",
         "10.1 %",
         "33.4",
         "TATACOFFEE",
         322,
         199,
         "2024-05-15"
        ],
        [
         51,
         1781,
         "1.18 %",
         10,
         "1,957 / 1,157",
         "INE151A01013",
         "12-Apr-95",
         null,
         "Tata Communications Limited",
         "23.9 %",
         "142 %",
         "38.5",
         "TATACOMM",
         1957,
         1157,
         "2024-05-15"
        ],
        [
         174,
         1080,
         "0.77 %",
         1,
         "1,081 / 685",
         "INE192A01025",
         "18-Nov-98",
         null,
         "TATA CONSUMER PRODUCTS LIMITED",
         "9.32 %",
         "6.86 %",
         "81.3",
         "TATACONSUM",
         1081,
         685,
         "2024-05-15"
        ],
        [
         45,
         8740,
         "0.69 %",
         10,
         "9,200 / 5,883",
         "INE670A01012",
         "17-Sep-03",
         null,
         "Tata Elxsi Limited",
         "60.0 %",
         "39.3 %",
         "533",
         "TATAELXSI",
         9200,
         5883,
         "2024-05-15"
        ],
        [
         4691,
         4297,
         "1.11 %",
         10,
         "4,737 / 1,730",
         "INE672A01018",
         "24-Jun-98",
         null,
         "Tata Investment Corporation Limited",
         "1.42 %",
         "1.28 %",
         "66.9",
         "TATAINVEST",
         4737,
         1730,
         "2024-05-15"
        ],
        [
         59,
         1078,
         "0.46 %",
         10,
         "1,085 / 721",
         "INE056C01010",
         "27-May-03",
         null,
         "Tata Metaliks Limited",
         "43.3 %",
         "306 %",
         "28.2",
         "TATAMETALI",
         1085,
         721,
         "2024-05-15"
        ],
        [
         161,
         792,
         "0.27 %",
         2,
         "802 / 381",
         "INE155A01022",
         "22-Jul-98",
         null,
         "Tata Motors Limited",
         "5.95 %",
         "5.62 %",
         "18.1",
         "TATAMOTORS",
         802,
         381,
         "2024-05-15"
        ],
        [
         1086,
         526,
         "0.42 %",
         2,
         "537 / 202",
         "IN9155A01020",
         "05-Nov-08",
         null,
         "Tata Motors Limited",
         "%",
         "-3.68 %",
         "",
         "TATAMTRDVR",
         537,
         202,
         "2024-05-15"
        ],
        [
         94,
         333,
         "0.61 %",
         1,
         "347 / 182",
         "INE245A01021",
         "03-Apr-96",
         null,
         "Tata Power Company Limited",
         "11.7 %",
         "12.6 %",
         "31.2",
         "TATAPOWER",
         347,
         182,
         "2024-05-15"
        ],
        [
         73,
         140,
         "2.56 %",
         1,
         "140 / 102",
         "INE081A01020",
         "18-Nov-98",
         null,
         "Tata Steel Limited",
         "12.6 %",
         "7.28 %",
         "2,827",
         "TATASTEEL",
         140,
         102,
         "2024-05-15"
        ],
        [
         null,
         1186,
         "0.00 %",
         2,
         "1,400 / 1,151",
         "INE142M01025",
         "30-Nov-23",
         null,
         "Tata Technologies Limited",
         "28.1 %",
         "23.7 %",
         "77.1",
         "TATATECH",
         1400,
         1151,
         "2024-05-15"
        ],
        [
         275,
         3804,
         "1.26 %",
         1,
         "3,929 / 3,070",
         "INE467B01029",
         "25-Aug-04",
         null,
         "Tata Consultancy Services Limited",
         "58.7 %",
         "46.9 %",
         "31.2",
         "TCS",
         3929,
         3070,
         "2024-05-15"
        ],
        [
         -2,
         91,
         "0.00 %",
         10,
         "109 / 49.6",
         "INE517B01013",
         "20-Oct-00",
         null,
         "Tata Teleservices (Maharashtra) Limited",
         "-12.7 %",
         "%",
         "",
         "TTML",
         109,
         49,
         "2024-05-15"
        ]
       ],
       "datasetInfos": [],
       "dbfsResultPath": null,
       "isJsonSchema": true,
       "metadata": {},
       "overflow": false,
       "plotOptions": {
        "customPlotOptions": {},
        "displayType": "table",
        "pivotAggregation": null,
        "pivotColumns": null,
        "xColumns": null,
        "yColumns": null
       },
       "removedWidgets": [],
       "schema": [
        {
         "metadata": "{}",
         "name": "BookValue",
         "type": "\"integer\""
        },
        {
         "metadata": "{}",
         "name": "CurrentPrice",
         "type": "\"integer\""
        },
        {
         "metadata": "{}",
         "name": "DividendYield",
         "type": "\"string\""
        },
        {
         "metadata": "{}",
         "name": "FaceValue",
         "type": "\"integer\""
        },
        {
         "metadata": "{}",
         "name": "HighLow",
         "type": "\"string\""
        },
        {
         "metadata": "{}",
         "name": "ISIN",
         "type": "\"string\""
        },
        {
         "metadata": "{}",
         "name": "ListingDate",
         "type": "\"string\""
        },
        {
         "metadata": "{}",
         "name": "MarketCap",
         "type": "\"integer\""
        },
        {
         "metadata": "{}",
         "name": "Name",
         "type": "\"string\""
        },
        {
         "metadata": "{}",
         "name": "ROCE",
         "type": "\"string\""
        },
        {
         "metadata": "{}",
         "name": "ROE",
         "type": "\"string\""
        },
        {
         "metadata": "{}",
         "name": "StockPE",
         "type": "\"string\""
        },
        {
         "metadata": "{}",
         "name": "Symbol",
         "type": "\"string\""
        },
        {
         "metadata": "{}",
         "name": "High",
         "type": "\"integer\""
        },
        {
         "metadata": "{}",
         "name": "Low",
         "type": "\"integer\""
        },
        {
         "metadata": "{}",
         "name": "date",
         "type": "\"date\""
        }
       ],
       "type": "table"
      }
     },
     "output_type": "display_data"
    }
   ],
   "source": [
    "display(stockdetailsdf)"
   ]
  },
  {
   "cell_type": "code",
   "execution_count": 0,
   "metadata": {
    "application/vnd.databricks.v1+cell": {
     "cellMetadata": {
      "byteLimit": 2048000,
      "rowLimit": 10000
     },
     "inputWidgets": {},
     "nuid": "c0d79993-8d56-4d99-a6be-7d33f0bcf767",
     "showTitle": false,
     "title": ""
    }
   },
   "outputs": [],
   "source": [
    "# Cleaning Data\n",
    "from pyspark.sql.functions import regexp_replace\n",
    "\n",
    "#Removing INR symbol\n",
    "stockdetailsdf = stockdetailsdf.withColumn(\"CurrentPrice\", regexp_replace(\"CurrentPrice\", \"₹ \", \"\"))\n",
    "stockdetailsdf = stockdetailsdf.withColumn(\"BookValue\", regexp_replace(\"BookValue\", \"₹ \", \"\"))\n",
    "stockdetailsdf = stockdetailsdf.withColumn(\"BookValue\", regexp_replace(\"BookValue\", \"₹\", \"\"))\n",
    "stockdetailsdf = stockdetailsdf.withColumn(\"FaceValue\", regexp_replace(\"FaceValue\", \"₹ \", \"\"))\n",
    "stockdetailsdf = stockdetailsdf.withColumn(\"HighLow\", regexp_replace(\"HighLow\", \"₹ \", \"\"))\n",
    "stockdetailsdf = stockdetailsdf.withColumn(\"MarketCap\", regexp_replace(\"MarketCap\", \"₹ \", \"\"))"
   ]
  },
  {
   "cell_type": "code",
   "execution_count": 0,
   "metadata": {
    "application/vnd.databricks.v1+cell": {
     "cellMetadata": {
      "byteLimit": 2048000,
      "rowLimit": 10000
     },
     "inputWidgets": {},
     "nuid": "56a3e24d-c4af-4ff6-bef3-150c745ffc37",
     "showTitle": false,
     "title": ""
    }
   },
   "outputs": [],
   "source": [
    "\n",
    "#Splitting High Lows\n",
    "from pyspark.sql.functions import split\n",
    "\n",
    "stockdetailsdf = stockdetailsdf.withColumn(\"High\", split(stockdetailsdf[\"HighLow\"], \"/\").getItem(0))\n",
    "stockdetailsdf = stockdetailsdf.withColumn(\"Low\", split(stockdetailsdf[\"HighLow\"], \"/\").getItem(1))"
   ]
  },
  {
   "cell_type": "code",
   "execution_count": 0,
   "metadata": {
    "application/vnd.databricks.v1+cell": {
     "cellMetadata": {
      "byteLimit": 2048000,
      "rowLimit": 10000
     },
     "inputWidgets": {},
     "nuid": "ee00bdec-8d72-45c9-8127-e853c8e0047d",
     "showTitle": false,
     "title": ""
    }
   },
   "outputs": [],
   "source": [
    "#Removing Spaces and Commas\n",
    "stockdetailsdf = stockdetailsdf.withColumn(\"CurrentPrice\", regexp_replace(\"CurrentPrice\", \",\", \"\"))\n",
    "stockdetailsdf = stockdetailsdf.withColumn(\"BookValue\", regexp_replace(\"BookValue\", \",\", \"\"))\n",
    "stockdetailsdf = stockdetailsdf.withColumn(\"FaceValue\", regexp_replace(\"FaceValue\", \",\", \"\"))\n",
    "stockdetailsdf = stockdetailsdf.withColumn(\"MarketCap\", regexp_replace(\"MarketCap\", \",\", \"\"))\n",
    "stockdetailsdf = stockdetailsdf.withColumn(\"High\", regexp_replace(\"High\", \",\", \"\"))\n",
    "stockdetailsdf = stockdetailsdf.withColumn(\"Low\", regexp_replace(\"Low\", \",\", \"\"))\n",
    "stockdetailsdf = stockdetailsdf.withColumn(\"High\", regexp_replace(\"High\", \" \", \"\"))\n",
    "stockdetailsdf = stockdetailsdf.withColumn(\"Low\", regexp_replace(\"Low\", \" \", \"\"))"
   ]
  },
  {
   "cell_type": "code",
   "execution_count": 0,
   "metadata": {
    "application/vnd.databricks.v1+cell": {
     "cellMetadata": {
      "byteLimit": 2048000,
      "rowLimit": 10000
     },
     "inputWidgets": {},
     "nuid": "e85c7028-a8b1-42b3-a89b-8a7dd1ad1bd9",
     "showTitle": false,
     "title": ""
    }
   },
   "outputs": [],
   "source": [
    "from pyspark.sql.functions import col\n",
    "stockdetailsdf = stockdetailsdf.withColumn(\"CurrentPrice\", col(\"CurrentPrice\").cast(\"int\"))\n",
    "stockdetailsdf = stockdetailsdf.withColumn(\"BookValue\", col(\"BookValue\").cast(\"int\"))\n",
    "stockdetailsdf = stockdetailsdf.withColumn(\"FaceValue\", col(\"FaceValue\").cast(\"int\"))\n",
    "stockdetailsdf = stockdetailsdf.withColumn(\"MarketCap\", col(\"MarketCap\").cast(\"int\"))\n",
    "stockdetailsdf = stockdetailsdf.withColumn(\"High\", col(\"High\").cast(\"int\"))\n",
    "stockdetailsdf = stockdetailsdf.withColumn(\"Low\", col(\"Low\").cast(\"int\"))"
   ]
  },
  {
   "cell_type": "code",
   "execution_count": 0,
   "metadata": {
    "application/vnd.databricks.v1+cell": {
     "cellMetadata": {
      "byteLimit": 2048000,
      "rowLimit": 10000
     },
     "inputWidgets": {},
     "nuid": "38b6b9f8-1877-4ee1-b580-744979e177a1",
     "showTitle": false,
     "title": ""
    }
   },
   "outputs": [],
   "source": [
    "from pyspark.sql.functions import lit, current_date\n",
    "stockdetailsdf = stockdetailsdf.withColumn(\"date\", lit(current_date()))"
   ]
  },
  {
   "cell_type": "code",
   "execution_count": 0,
   "metadata": {
    "application/vnd.databricks.v1+cell": {
     "cellMetadata": {},
     "inputWidgets": {},
     "nuid": "487ec5ca-3475-41d1-8035-761725fa249c",
     "showTitle": false,
     "title": ""
    }
   },
   "outputs": [],
   "source": [
    "import pyodbc \n",
    "\n",
    "cnxn = pyodbc.connect(\"Driver={/usr/local/lib/libmsodbcsql.18.dylib};Server=sakettestserver.database.windows.net;UID=saket;PWD=Mansa@0902;Database=demo;\")"
   ]
  }
 ],
 "metadata": {
  "application/vnd.databricks.v1+notebook": {
   "dashboards": [],
   "environmentMetadata": null,
   "language": "python",
   "notebookMetadata": {
    "pythonIndentUnit": 4
   },
   "notebookName": "Session2 APIs",
   "widgets": {}
  }
 },
 "nbformat": 4,
 "nbformat_minor": 0
}
