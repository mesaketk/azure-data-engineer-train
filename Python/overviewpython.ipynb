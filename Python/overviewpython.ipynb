{
 "cells": [
  {
   "cell_type": "code",
   "execution_count": 1,
   "metadata": {},
   "outputs": [
    {
     "data": {
      "text/plain": [
       "'saket'"
      ]
     },
     "execution_count": 1,
     "metadata": {},
     "output_type": "execute_result"
    }
   ],
   "source": [
    "var1 = \"saket\"\n",
    "var1"
   ]
  },
  {
   "cell_type": "code",
   "execution_count": 2,
   "metadata": {},
   "outputs": [
    {
     "data": {
      "text/plain": [
       "str"
      ]
     },
     "execution_count": 2,
     "metadata": {},
     "output_type": "execute_result"
    }
   ],
   "source": [
    "type(var1)"
   ]
  },
  {
   "cell_type": "code",
   "execution_count": 3,
   "metadata": {},
   "outputs": [
    {
     "data": {
      "text/plain": [
       "1"
      ]
     },
     "execution_count": 3,
     "metadata": {},
     "output_type": "execute_result"
    }
   ],
   "source": [
    "var1=1\n",
    "var1"
   ]
  },
  {
   "cell_type": "code",
   "execution_count": 4,
   "metadata": {},
   "outputs": [
    {
     "data": {
      "text/plain": [
       "int"
      ]
     },
     "execution_count": 4,
     "metadata": {},
     "output_type": "execute_result"
    }
   ],
   "source": [
    "type(var1)"
   ]
  },
  {
   "cell_type": "code",
   "execution_count": 5,
   "metadata": {},
   "outputs": [],
   "source": [
    "var1=None\n",
    "var1"
   ]
  },
  {
   "cell_type": "code",
   "execution_count": 6,
   "metadata": {},
   "outputs": [
    {
     "data": {
      "text/plain": [
       "NoneType"
      ]
     },
     "execution_count": 6,
     "metadata": {},
     "output_type": "execute_result"
    }
   ],
   "source": [
    "type(var1)"
   ]
  },
  {
   "cell_type": "code",
   "execution_count": 8,
   "metadata": {},
   "outputs": [
    {
     "data": {
      "text/plain": [
       "False"
      ]
     },
     "execution_count": 8,
     "metadata": {},
     "output_type": "execute_result"
    }
   ],
   "source": [
    "speed_limit = 65\n",
    "my_speed = 70\n",
    "\n",
    "under_speed_limit = my_speed < speed_limit # True\n",
    "under_speed_limit"
   ]
  },
  {
   "cell_type": "code",
   "execution_count": 10,
   "metadata": {},
   "outputs": [
    {
     "data": {
      "text/plain": [
       "True"
      ]
     },
     "execution_count": 10,
     "metadata": {},
     "output_type": "execute_result"
    }
   ],
   "source": [
    "is_it_warm = True\n",
    "is_it_cold = False\n",
    "is_it_foggy = False\n",
    "\n",
    "result = is_it_warm or is_it_cold or is_it_foggy # True\n",
    "result"
   ]
  },
  {
   "cell_type": "code",
   "execution_count": 14,
   "metadata": {},
   "outputs": [
    {
     "data": {
      "text/plain": [
       "True"
      ]
     },
     "execution_count": 14,
     "metadata": {},
     "output_type": "execute_result"
    }
   ],
   "source": [
    "is_it_warm = True\n",
    "is_it_cold = True\n",
    "is_it_foggy = False\n",
    "\n",
    "result = is_it_warm and is_it_cold or is_it_foggy # True\n",
    "result"
   ]
  },
  {
   "cell_type": "code",
   "execution_count": 15,
   "metadata": {},
   "outputs": [
    {
     "name": "stdout",
     "output_type": "stream",
     "text": [
      "wear a jacket and bring an umbrella!\n"
     ]
    }
   ],
   "source": [
    "temp = 43\n",
    "is_it_raining = True\n",
    "\n",
    "if is_it_raining and temp < 65:\n",
    "    print('wear a jacket and bring an umbrella!')"
   ]
  },
  {
   "cell_type": "code",
   "execution_count": 16,
   "metadata": {},
   "outputs": [
    {
     "name": "stdout",
     "output_type": "stream",
     "text": [
      "wear a light jacket\n"
     ]
    }
   ],
   "source": [
    "temp = 43\n",
    "\n",
    "if temp < 30:\n",
    "    print('wear a heavy jacket')\n",
    "elif temp < 50:\n",
    "    print('wear a light jacket')\n",
    "elif temp < 60:\n",
    "    print('wear a sweater')\n",
    "else:\n",
    "    print('you do not need any layers!')"
   ]
  },
  {
   "cell_type": "code",
   "execution_count": 17,
   "metadata": {},
   "outputs": [
    {
     "name": "stdout",
     "output_type": "stream",
     "text": [
      "wear a sweater\n"
     ]
    }
   ],
   "source": [
    "temp = 43\n",
    "\n",
    "if temp < 30:\n",
    "    print('wear a heavy jacket')\n",
    "elif temp < 60:\n",
    "    print('wear a sweater')\n",
    "elif temp < 50:\n",
    "    print('wear a light jacket')\n",
    "else:\n",
    "    print('you do not need any layers!')"
   ]
  },
  {
   "cell_type": "code",
   "execution_count": 18,
   "metadata": {},
   "outputs": [
    {
     "name": "stdout",
     "output_type": "stream",
     "text": [
      "wear a light jacket\n"
     ]
    }
   ],
   "source": [
    "temp = 43\n",
    "\n",
    "if temp < 30:\n",
    "    print('wear a heavy jacket')\n",
    "elif temp < 60 and temp>50:\n",
    "    print('wear a sweater')\n",
    "elif temp < 50:\n",
    "    print('wear a light jacket')\n",
    "else:\n",
    "    print('you do not need any layers!')"
   ]
  },
  {
   "cell_type": "code",
   "execution_count": 20,
   "metadata": {},
   "outputs": [
    {
     "data": {
      "text/plain": [
       "'SAKET'"
      ]
     },
     "execution_count": 20,
     "metadata": {},
     "output_type": "execute_result"
    }
   ],
   "source": [
    "var1 = \"saket\"\n",
    "var1 = var1.upper()\n",
    "var1"
   ]
  },
  {
   "cell_type": "code",
   "execution_count": 21,
   "metadata": {},
   "outputs": [
    {
     "data": {
      "text/plain": [
       "'saket'"
      ]
     },
     "execution_count": 21,
     "metadata": {},
     "output_type": "execute_result"
    }
   ],
   "source": [
    "var1 = var1.lower()\n",
    "var1"
   ]
  },
  {
   "cell_type": "code",
   "execution_count": 23,
   "metadata": {},
   "outputs": [
    {
     "data": {
      "text/plain": [
       "''"
      ]
     },
     "execution_count": 23,
     "metadata": {},
     "output_type": "execute_result"
    }
   ],
   "source": [
    "var1=''\n",
    "var1"
   ]
  },
  {
   "cell_type": "code",
   "execution_count": 24,
   "metadata": {},
   "outputs": [
    {
     "data": {
      "text/plain": [
       "str"
      ]
     },
     "execution_count": 24,
     "metadata": {},
     "output_type": "execute_result"
    }
   ],
   "source": [
    "type(var1)"
   ]
  },
  {
   "cell_type": "code",
   "execution_count": 25,
   "metadata": {},
   "outputs": [
    {
     "name": "stdout",
     "output_type": "stream",
     "text": [
      "empty\n"
     ]
    }
   ],
   "source": [
    "if var1=='':\n",
    "    print(\"empty\")"
   ]
  },
  {
   "cell_type": "code",
   "execution_count": 26,
   "metadata": {},
   "outputs": [],
   "source": [
    "colors = ['red', 'yellow', 'green'] #strings\n",
    "grades = [100, 99, 65, 54, 19] #numbers\n",
    "bools = [True, False, True, True] #booleans"
   ]
  },
  {
   "cell_type": "code",
   "execution_count": 29,
   "metadata": {},
   "outputs": [
    {
     "data": {
      "text/plain": [
       "[True, False, True, True]"
      ]
     },
     "execution_count": 29,
     "metadata": {},
     "output_type": "execute_result"
    }
   ],
   "source": [
    "bools"
   ]
  },
  {
   "cell_type": "code",
   "execution_count": 30,
   "metadata": {},
   "outputs": [],
   "source": [
    "empty_list = list()"
   ]
  },
  {
   "cell_type": "code",
   "execution_count": 31,
   "metadata": {},
   "outputs": [
    {
     "data": {
      "text/plain": [
       "[]"
      ]
     },
     "execution_count": 31,
     "metadata": {},
     "output_type": "execute_result"
    }
   ],
   "source": [
    "empty_list"
   ]
  },
  {
   "cell_type": "code",
   "execution_count": 32,
   "metadata": {},
   "outputs": [],
   "source": [
    "emp_list = []"
   ]
  },
  {
   "cell_type": "code",
   "execution_count": 33,
   "metadata": {},
   "outputs": [
    {
     "data": {
      "text/plain": [
       "[]"
      ]
     },
     "execution_count": 33,
     "metadata": {},
     "output_type": "execute_result"
    }
   ],
   "source": [
    "empty_list"
   ]
  },
  {
   "cell_type": "code",
   "execution_count": 36,
   "metadata": {},
   "outputs": [
    {
     "data": {
      "text/plain": [
       "'red'"
      ]
     },
     "execution_count": 36,
     "metadata": {},
     "output_type": "execute_result"
    }
   ],
   "source": [
    "colors[0]"
   ]
  },
  {
   "cell_type": "code",
   "execution_count": 38,
   "metadata": {},
   "outputs": [
    {
     "data": {
      "text/plain": [
       "'green'"
      ]
     },
     "execution_count": 38,
     "metadata": {},
     "output_type": "execute_result"
    }
   ],
   "source": [
    "colors[-1]"
   ]
  },
  {
   "cell_type": "code",
   "execution_count": 39,
   "metadata": {},
   "outputs": [
    {
     "data": {
      "text/plain": [
       "'yellow'"
      ]
     },
     "execution_count": 39,
     "metadata": {},
     "output_type": "execute_result"
    }
   ],
   "source": [
    "colors[-2]"
   ]
  },
  {
   "cell_type": "code",
   "execution_count": 40,
   "metadata": {},
   "outputs": [
    {
     "data": {
      "text/plain": [
       "True"
      ]
     },
     "execution_count": 40,
     "metadata": {},
     "output_type": "execute_result"
    }
   ],
   "source": [
    "colors[-1]==colors[2]"
   ]
  },
  {
   "cell_type": "code",
   "execution_count": 41,
   "metadata": {},
   "outputs": [],
   "source": [
    "big_list = ['string' + str(i) for i in range(100)]"
   ]
  },
  {
   "cell_type": "code",
   "execution_count": 42,
   "metadata": {},
   "outputs": [
    {
     "data": {
      "text/plain": [
       "['string0',\n",
       " 'string1',\n",
       " 'string2',\n",
       " 'string3',\n",
       " 'string4',\n",
       " 'string5',\n",
       " 'string6',\n",
       " 'string7',\n",
       " 'string8',\n",
       " 'string9',\n",
       " 'string10',\n",
       " 'string11',\n",
       " 'string12',\n",
       " 'string13',\n",
       " 'string14',\n",
       " 'string15',\n",
       " 'string16',\n",
       " 'string17',\n",
       " 'string18',\n",
       " 'string19',\n",
       " 'string20',\n",
       " 'string21',\n",
       " 'string22',\n",
       " 'string23',\n",
       " 'string24',\n",
       " 'string25',\n",
       " 'string26',\n",
       " 'string27',\n",
       " 'string28',\n",
       " 'string29',\n",
       " 'string30',\n",
       " 'string31',\n",
       " 'string32',\n",
       " 'string33',\n",
       " 'string34',\n",
       " 'string35',\n",
       " 'string36',\n",
       " 'string37',\n",
       " 'string38',\n",
       " 'string39',\n",
       " 'string40',\n",
       " 'string41',\n",
       " 'string42',\n",
       " 'string43',\n",
       " 'string44',\n",
       " 'string45',\n",
       " 'string46',\n",
       " 'string47',\n",
       " 'string48',\n",
       " 'string49',\n",
       " 'string50',\n",
       " 'string51',\n",
       " 'string52',\n",
       " 'string53',\n",
       " 'string54',\n",
       " 'string55',\n",
       " 'string56',\n",
       " 'string57',\n",
       " 'string58',\n",
       " 'string59',\n",
       " 'string60',\n",
       " 'string61',\n",
       " 'string62',\n",
       " 'string63',\n",
       " 'string64',\n",
       " 'string65',\n",
       " 'string66',\n",
       " 'string67',\n",
       " 'string68',\n",
       " 'string69',\n",
       " 'string70',\n",
       " 'string71',\n",
       " 'string72',\n",
       " 'string73',\n",
       " 'string74',\n",
       " 'string75',\n",
       " 'string76',\n",
       " 'string77',\n",
       " 'string78',\n",
       " 'string79',\n",
       " 'string80',\n",
       " 'string81',\n",
       " 'string82',\n",
       " 'string83',\n",
       " 'string84',\n",
       " 'string85',\n",
       " 'string86',\n",
       " 'string87',\n",
       " 'string88',\n",
       " 'string89',\n",
       " 'string90',\n",
       " 'string91',\n",
       " 'string92',\n",
       " 'string93',\n",
       " 'string94',\n",
       " 'string95',\n",
       " 'string96',\n",
       " 'string97',\n",
       " 'string98',\n",
       " 'string99']"
      ]
     },
     "execution_count": 42,
     "metadata": {},
     "output_type": "execute_result"
    }
   ],
   "source": [
    "big_list"
   ]
  },
  {
   "cell_type": "code",
   "execution_count": 43,
   "metadata": {},
   "outputs": [
    {
     "data": {
      "text/plain": [
       "['string50',\n",
       " 'string51',\n",
       " 'string52',\n",
       " 'string53',\n",
       " 'string54',\n",
       " 'string55',\n",
       " 'string56',\n",
       " 'string57',\n",
       " 'string58',\n",
       " 'string59',\n",
       " 'string60',\n",
       " 'string61',\n",
       " 'string62',\n",
       " 'string63',\n",
       " 'string64',\n",
       " 'string65',\n",
       " 'string66',\n",
       " 'string67',\n",
       " 'string68',\n",
       " 'string69',\n",
       " 'string70',\n",
       " 'string71',\n",
       " 'string72',\n",
       " 'string73',\n",
       " 'string74',\n",
       " 'string75',\n",
       " 'string76',\n",
       " 'string77',\n",
       " 'string78',\n",
       " 'string79',\n",
       " 'string80',\n",
       " 'string81',\n",
       " 'string82',\n",
       " 'string83',\n",
       " 'string84',\n",
       " 'string85',\n",
       " 'string86',\n",
       " 'string87',\n",
       " 'string88',\n",
       " 'string89',\n",
       " 'string90',\n",
       " 'string91',\n",
       " 'string92',\n",
       " 'string93',\n",
       " 'string94',\n",
       " 'string95',\n",
       " 'string96',\n",
       " 'string97',\n",
       " 'string98',\n",
       " 'string99']"
      ]
     },
     "execution_count": 43,
     "metadata": {},
     "output_type": "execute_result"
    }
   ],
   "source": [
    "big_list[50:]"
   ]
  },
  {
   "cell_type": "code",
   "execution_count": 44,
   "metadata": {},
   "outputs": [
    {
     "data": {
      "text/plain": [
       "['string50',\n",
       " 'string51',\n",
       " 'string52',\n",
       " 'string53',\n",
       " 'string54',\n",
       " 'string55',\n",
       " 'string56',\n",
       " 'string57',\n",
       " 'string58',\n",
       " 'string59',\n",
       " 'string60',\n",
       " 'string61',\n",
       " 'string62',\n",
       " 'string63',\n",
       " 'string64',\n",
       " 'string65',\n",
       " 'string66',\n",
       " 'string67',\n",
       " 'string68',\n",
       " 'string69',\n",
       " 'string70',\n",
       " 'string71',\n",
       " 'string72',\n",
       " 'string73',\n",
       " 'string74',\n",
       " 'string75',\n",
       " 'string76',\n",
       " 'string77',\n",
       " 'string78',\n",
       " 'string79']"
      ]
     },
     "execution_count": 44,
     "metadata": {},
     "output_type": "execute_result"
    }
   ],
   "source": [
    "big_list[50:80]"
   ]
  },
  {
   "cell_type": "code",
   "execution_count": 45,
   "metadata": {},
   "outputs": [
    {
     "name": "stdout",
     "output_type": "stream",
     "text": [
      "['a', 'b', 'c', 'd', ['e', 'f', 'g']]\n"
     ]
    }
   ],
   "source": [
    "# passing direct argument\n",
    "x = ['a', 'b', 'c', 'd']\n",
    "x.append(['e', 'f', 'g'])\n",
    "print(x) # ['a', 'b', 'c', 'd', ['e', 'f', 'g']]"
   ]
  },
  {
   "cell_type": "code",
   "execution_count": 47,
   "metadata": {},
   "outputs": [
    {
     "data": {
      "text/plain": [
       "['a', 'b', 'c', 'd', 'e', 'f', 'g']"
      ]
     },
     "execution_count": 47,
     "metadata": {},
     "output_type": "execute_result"
    }
   ],
   "source": [
    "# passing direct argument\n",
    "x = ['a', 'b', 'c', 'd']\n",
    "y = ['e', 'f', 'g']\n",
    "for i in y:\n",
    "    x.append(i)\n",
    "x"
   ]
  },
  {
   "cell_type": "code",
   "execution_count": 48,
   "metadata": {},
   "outputs": [
    {
     "data": {
      "text/plain": [
       "['a', 'b', 'c', 'd', 'e', 'f', 'g']"
      ]
     },
     "execution_count": 48,
     "metadata": {},
     "output_type": "execute_result"
    }
   ],
   "source": [
    "x = ['a', 'b', 'c', 'd']\n",
    "x.extend(['e', 'f', 'g'])\n",
    "x"
   ]
  },
  {
   "cell_type": "code",
   "execution_count": 49,
   "metadata": {},
   "outputs": [
    {
     "data": {
      "text/plain": [
       "['Brandi', 'Sanju', 'Zoe', 'Steve', 'Aleksander', 'Dasha', 'Sonyl']"
      ]
     },
     "execution_count": 49,
     "metadata": {},
     "output_type": "execute_result"
    }
   ],
   "source": [
    "my_class = ['Brandi', 'Zoe', 'Steve', 'Aleksander', 'Dasha', 'Sonyl']\n",
    "my_class.insert(1, 'Sanju')\n",
    "my_class"
   ]
  },
  {
   "cell_type": "code",
   "execution_count": 50,
   "metadata": {},
   "outputs": [
    {
     "name": "stdout",
     "output_type": "stream",
     "text": [
      "julianna\n",
      "this is fun.\n"
     ]
    }
   ],
   "source": [
    "letters = ['j', 'u', 'l', 'i', 'a', 'n', 'n', 'a']\n",
    "name = ''.join(letters)\n",
    "print(name) # 'julianna'\n",
    "\n",
    "words = ['this', 'is', 'fun']\n",
    "sentence = ' '.join(words)\n",
    "print(f'{sentence}.') # 'this is fun.'"
   ]
  },
  {
   "cell_type": "code",
   "execution_count": 51,
   "metadata": {},
   "outputs": [
    {
     "name": "stdout",
     "output_type": "stream",
     "text": [
      "this saket is saket fun.\n"
     ]
    }
   ],
   "source": [
    "words = ['this', 'is', 'fun']\n",
    "sentence = ' saket '.join(words)\n",
    "print(f'{sentence}.') # 'this is fun.'"
   ]
  },
  {
   "cell_type": "code",
   "execution_count": 52,
   "metadata": {},
   "outputs": [
    {
     "name": "stdout",
     "output_type": "stream",
     "text": [
      "['this', 'is', 'fun']\n",
      "['Sandra', 'hi@email.com', '646-212-1234', '8 Cherry Lane', 'Splitsville', 'FL', '58028']\n"
     ]
    }
   ],
   "source": [
    "x = 'this is fun'\n",
    "sentence = x.split() # note - using default split char at space\n",
    "print(sentence) # ['this', 'is', 'fun']\n",
    "\n",
    "y = 'Sandra,hi@email.com,646-212-1234,8 Cherry Lane,Splitsville,FL,58028'\n",
    "data = y.split(',')\n",
    "print(data) # ['Sandra', 'hi@email.com', '646-212-1234', '8 Cherry Lane', 'Splitsville', 'FL', '58028']"
   ]
  },
  {
   "cell_type": "code",
   "execution_count": 53,
   "metadata": {},
   "outputs": [
    {
     "data": {
      "text/plain": [
       "['saket@gmail.com', 'siva@gmail.com', 'abc@yahoo.com']"
      ]
     },
     "execution_count": 53,
     "metadata": {},
     "output_type": "execute_result"
    }
   ],
   "source": [
    "emails = ['saket@gmail.com','siva@gmail.com','abc@yahoo.com']\n",
    "emails"
   ]
  },
  {
   "cell_type": "code",
   "execution_count": 55,
   "metadata": {},
   "outputs": [
    {
     "name": "stdout",
     "output_type": "stream",
     "text": [
      "saket\n",
      "siva\n",
      "abc\n"
     ]
    }
   ],
   "source": [
    "for i in emails:\n",
    "    name_list = i.split('@')\n",
    "    print(name_list[0])"
   ]
  },
  {
   "cell_type": "code",
   "execution_count": 56,
   "metadata": {},
   "outputs": [
    {
     "name": "stdout",
     "output_type": "stream",
     "text": [
      "The student Steve has left the class.\n",
      "['Brandi', 'Zoe', 'Aleksander', 'Dasha']\n"
     ]
    }
   ],
   "source": [
    "my_class = ['Brandi', 'Zoe', 'Steve', 'Aleksander', 'Dasha']\n",
    "student_that_left = my_class.pop(2) # Remember to count from 0!\n",
    "print(\"The student\", student_that_left, \"has left the class.\")\n",
    "# => \"Steve\"\n",
    "print(my_class)\n",
    "# => ['Brandi', 'Zoe', 'Aleksander', 'Dasha']"
   ]
  },
  {
   "cell_type": "code",
   "execution_count": 57,
   "metadata": {},
   "outputs": [
    {
     "data": {
      "text/plain": [
       "4"
      ]
     },
     "execution_count": 57,
     "metadata": {},
     "output_type": "execute_result"
    }
   ],
   "source": [
    "len(my_class)"
   ]
  },
  {
   "cell_type": "code",
   "execution_count": 58,
   "metadata": {},
   "outputs": [],
   "source": [
    "#list: [] --mutable\n",
    "#tuples: () --immutable\n",
    "#set: no dups\n",
    "#dictionary: key value pair"
   ]
  },
  {
   "cell_type": "code",
   "execution_count": 59,
   "metadata": {},
   "outputs": [],
   "source": [
    "list = ['saket','saket','siva','pooja']"
   ]
  },
  {
   "cell_type": "code",
   "execution_count": 60,
   "metadata": {},
   "outputs": [],
   "source": [
    "list.append('blabla')"
   ]
  },
  {
   "cell_type": "code",
   "execution_count": 61,
   "metadata": {},
   "outputs": [
    {
     "data": {
      "text/plain": [
       "['saket', 'saket', 'siva', 'pooja', 'blabla']"
      ]
     },
     "execution_count": 61,
     "metadata": {},
     "output_type": "execute_result"
    }
   ],
   "source": [
    "list"
   ]
  },
  {
   "cell_type": "code",
   "execution_count": 62,
   "metadata": {},
   "outputs": [
    {
     "data": {
      "text/plain": [
       "'blabla'"
      ]
     },
     "execution_count": 62,
     "metadata": {},
     "output_type": "execute_result"
    }
   ],
   "source": [
    "list.pop(-1)"
   ]
  },
  {
   "cell_type": "code",
   "execution_count": 63,
   "metadata": {},
   "outputs": [
    {
     "data": {
      "text/plain": [
       "['saket', 'saket', 'siva', 'pooja']"
      ]
     },
     "execution_count": 63,
     "metadata": {},
     "output_type": "execute_result"
    }
   ],
   "source": [
    "list"
   ]
  },
  {
   "cell_type": "code",
   "execution_count": 64,
   "metadata": {},
   "outputs": [],
   "source": [
    "tuple1 = tuple(list)"
   ]
  },
  {
   "cell_type": "code",
   "execution_count": 66,
   "metadata": {},
   "outputs": [
    {
     "data": {
      "text/plain": [
       "('saket', 'saket', 'siva', 'pooja')"
      ]
     },
     "execution_count": 66,
     "metadata": {},
     "output_type": "execute_result"
    }
   ],
   "source": [
    "tuple1"
   ]
  },
  {
   "cell_type": "code",
   "execution_count": 68,
   "metadata": {},
   "outputs": [],
   "source": [
    "set1 = set(list)"
   ]
  },
  {
   "cell_type": "code",
   "execution_count": 69,
   "metadata": {},
   "outputs": [
    {
     "data": {
      "text/plain": [
       "{'pooja', 'saket', 'siva'}"
      ]
     },
     "execution_count": 69,
     "metadata": {},
     "output_type": "execute_result"
    }
   ],
   "source": [
    "set1"
   ]
  },
  {
   "cell_type": "code",
   "execution_count": 72,
   "metadata": {},
   "outputs": [],
   "source": [
    "back_to_list = [set1]"
   ]
  },
  {
   "cell_type": "code",
   "execution_count": 73,
   "metadata": {},
   "outputs": [
    {
     "data": {
      "text/plain": [
       "[{'pooja', 'saket', 'siva'}]"
      ]
     },
     "execution_count": 73,
     "metadata": {},
     "output_type": "execute_result"
    }
   ],
   "source": [
    "back_to_list"
   ]
  },
  {
   "cell_type": "code",
   "execution_count": 81,
   "metadata": {},
   "outputs": [],
   "source": [
    "back_to_list.append((1,2,3))"
   ]
  },
  {
   "cell_type": "code",
   "execution_count": 82,
   "metadata": {},
   "outputs": [
    {
     "data": {
      "text/plain": [
       "[{'pooja', 'saket', 'siva'}, (1, 2, 3)]"
      ]
     },
     "execution_count": 82,
     "metadata": {},
     "output_type": "execute_result"
    }
   ],
   "source": [
    "back_to_list"
   ]
  },
  {
   "cell_type": "code",
   "execution_count": 83,
   "metadata": {},
   "outputs": [],
   "source": [
    "df = [{'col1':1,'col2':'saket'},{'col1':2,'col2':'siva'}]"
   ]
  },
  {
   "cell_type": "code",
   "execution_count": 84,
   "metadata": {},
   "outputs": [
    {
     "data": {
      "text/plain": [
       "[{'col1': 1, 'col2': 'saket'}, {'col1': 2, 'col2': 'siva'}]"
      ]
     },
     "execution_count": 84,
     "metadata": {},
     "output_type": "execute_result"
    }
   ],
   "source": [
    "df"
   ]
  },
  {
   "cell_type": "code",
   "execution_count": 85,
   "metadata": {},
   "outputs": [],
   "source": [
    "import pandas as pd"
   ]
  },
  {
   "cell_type": "code",
   "execution_count": 86,
   "metadata": {},
   "outputs": [],
   "source": [
    "newdf = pd.DataFrame(df)"
   ]
  },
  {
   "cell_type": "code",
   "execution_count": 87,
   "metadata": {},
   "outputs": [
    {
     "data": {
      "text/html": [
       "<div>\n",
       "<style scoped>\n",
       "    .dataframe tbody tr th:only-of-type {\n",
       "        vertical-align: middle;\n",
       "    }\n",
       "\n",
       "    .dataframe tbody tr th {\n",
       "        vertical-align: top;\n",
       "    }\n",
       "\n",
       "    .dataframe thead th {\n",
       "        text-align: right;\n",
       "    }\n",
       "</style>\n",
       "<table border=\"1\" class=\"dataframe\">\n",
       "  <thead>\n",
       "    <tr style=\"text-align: right;\">\n",
       "      <th></th>\n",
       "      <th>col1</th>\n",
       "      <th>col2</th>\n",
       "    </tr>\n",
       "  </thead>\n",
       "  <tbody>\n",
       "    <tr>\n",
       "      <th>0</th>\n",
       "      <td>1</td>\n",
       "      <td>saket</td>\n",
       "    </tr>\n",
       "    <tr>\n",
       "      <th>1</th>\n",
       "      <td>2</td>\n",
       "      <td>siva</td>\n",
       "    </tr>\n",
       "  </tbody>\n",
       "</table>\n",
       "</div>"
      ],
      "text/plain": [
       "   col1   col2\n",
       "0     1  saket\n",
       "1     2   siva"
      ]
     },
     "execution_count": 87,
     "metadata": {},
     "output_type": "execute_result"
    }
   ],
   "source": [
    "newdf"
   ]
  },
  {
   "cell_type": "code",
   "execution_count": 88,
   "metadata": {},
   "outputs": [
    {
     "name": "stdout",
     "output_type": "stream",
     "text": [
      "{'Taq': [98, 89, 92, 94], 'Zola': [86, 45, 98, 100], 'Valerie': [76, 79, 80, 82]}\n"
     ]
    }
   ],
   "source": [
    "names = ['Taq', 'Zola', 'Valerie', 'Valerie']\n",
    "scores = [[98, 89, 92, 94], [86, 45, 98, 100], [100, 100, 100, 100], [76, 79, 80, 82]]\n",
    "\n",
    "grades = dict(zip(names,scores))\n",
    "print(grades) # {'Taq': [98, 89, 92, 94], 'Zola': [86, 45, 98, 100], 'Valerie': [76, 79, 80, 82]}"
   ]
  },
  {
   "cell_type": "code",
   "execution_count": 89,
   "metadata": {},
   "outputs": [
    {
     "data": {
      "text/plain": [
       "[98, 89, 92, 94]"
      ]
     },
     "execution_count": 89,
     "metadata": {},
     "output_type": "execute_result"
    }
   ],
   "source": [
    "grades['Taq']"
   ]
  },
  {
   "cell_type": "code",
   "execution_count": 92,
   "metadata": {},
   "outputs": [
    {
     "data": {
      "text/plain": [
       "dict_items([('Taq', [98, 89, 92, 94]), ('Zola', [86, 45, 98, 100]), ('Valerie', [76, 79, 80, 82])])"
      ]
     },
     "execution_count": 92,
     "metadata": {},
     "output_type": "execute_result"
    }
   ],
   "source": [
    "grades.keys() # ['Taq', 'Francesca', 'Walter', 'Caleb']\n",
    "\n",
    "grades.values() # [['teacup pig','cat','cat'], ['dog','rabbit','parakeet'], etc ]\n",
    "\n",
    "grades.items() # [('Taq', ['teacup pig','cat','cat']), ('Francesca', [['llama','horse','dog']), etc]"
   ]
  },
  {
   "cell_type": "code",
   "execution_count": 93,
   "metadata": {},
   "outputs": [
    {
     "data": {
      "text/plain": [
       "dict_keys(['Taq', 'Zola', 'Valerie'])"
      ]
     },
     "execution_count": 93,
     "metadata": {},
     "output_type": "execute_result"
    }
   ],
   "source": [
    "grades.keys() "
   ]
  },
  {
   "cell_type": "code",
   "execution_count": 94,
   "metadata": {},
   "outputs": [
    {
     "data": {
      "text/plain": [
       "dict_values([[98, 89, 92, 94], [86, 45, 98, 100], [76, 79, 80, 82]])"
      ]
     },
     "execution_count": 94,
     "metadata": {},
     "output_type": "execute_result"
    }
   ],
   "source": [
    "grades.values()"
   ]
  },
  {
   "cell_type": "code",
   "execution_count": 95,
   "metadata": {},
   "outputs": [
    {
     "name": "stdout",
     "output_type": "stream",
     "text": [
      "corge\n",
      "qux\n",
      "baz\n",
      "Done.\n"
     ]
    }
   ],
   "source": [
    "a = ['foo', 'bar', 'baz', 'qux', 'corge']\n",
    "while a:\n",
    "    if len(a) < 3:\n",
    "        break\n",
    "    print(a.pop())\n",
    "print('Done.')"
   ]
  },
  {
   "cell_type": "code",
   "execution_count": 96,
   "metadata": {},
   "outputs": [
    {
     "data": {
      "text/plain": [
       "['foo', 'bar']"
      ]
     },
     "execution_count": 96,
     "metadata": {},
     "output_type": "execute_result"
    }
   ],
   "source": [
    "a"
   ]
  },
  {
   "cell_type": "code",
   "execution_count": 97,
   "metadata": {},
   "outputs": [
    {
     "name": "stdout",
     "output_type": "stream",
     "text": [
      "amount: 10.0\n",
      "payee: Joe Bloggs\n",
      "account: 1234\n"
     ]
    }
   ],
   "source": [
    "transaction = {\n",
    "  \"amount\": 10.00,\n",
    "  \"payee\": \"Joe Bloggs\",\n",
    "  \"account\": 1234\n",
    "}\n",
    "\n",
    "for key, value in transaction.items():\n",
    "    print(\"{}: {}\".format(key, value))"
   ]
  },
  {
   "cell_type": "code",
   "execution_count": 98,
   "metadata": {},
   "outputs": [],
   "source": [
    "def num_squared(num):\n",
    "    \"\"\"Find the square of some number passed in\"\"\"\n",
    "    square = num*num # code to find the square\n",
    "    return square"
   ]
  },
  {
   "cell_type": "code",
   "execution_count": 99,
   "metadata": {},
   "outputs": [
    {
     "data": {
      "text/plain": [
       "100"
      ]
     },
     "execution_count": 99,
     "metadata": {},
     "output_type": "execute_result"
    }
   ],
   "source": [
    "num_squared(10)"
   ]
  },
  {
   "cell_type": "code",
   "execution_count": 102,
   "metadata": {},
   "outputs": [
    {
     "data": {
      "text/plain": [
       "8"
      ]
     },
     "execution_count": 102,
     "metadata": {},
     "output_type": "execute_result"
    }
   ],
   "source": [
    "def sum_of_listvals(xlist):\n",
    "    x=0\n",
    "    for i in xlist:\n",
    "        x=x+1\n",
    "    return x\n",
    "\n",
    "\n",
    "list1 = [1,2,3,4,5,6]\n",
    "list2 = [1,2,3,4,5,6,3,8,8955]\n",
    "list3 = [1,2,3,4,5,6,65882,4377]\n",
    "list4 = [1,2,3,4,5,6,45232,9,4,7]\n",
    "\n",
    "sum_of_listvals(list3)\n"
   ]
  },
  {
   "cell_type": "code",
   "execution_count": null,
   "metadata": {},
   "outputs": [],
   "source": []
  }
 ],
 "metadata": {
  "kernelspec": {
   "display_name": "base",
   "language": "python",
   "name": "python3"
  },
  "language_info": {
   "codemirror_mode": {
    "name": "ipython",
    "version": 3
   },
   "file_extension": ".py",
   "mimetype": "text/x-python",
   "name": "python",
   "nbconvert_exporter": "python",
   "pygments_lexer": "ipython3",
   "version": "3.11.4"
  }
 },
 "nbformat": 4,
 "nbformat_minor": 2
}
